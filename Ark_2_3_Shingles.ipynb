{
  "nbformat": 4,
  "nbformat_minor": 0,
  "metadata": {
    "colab": {
      "provenance": [],
      "authorship_tag": "ABX9TyNrCgJpBNjXcVEhotIeXMOQ",
      "include_colab_link": true
    },
    "kernelspec": {
      "name": "python3",
      "display_name": "Python 3"
    },
    "language_info": {
      "name": "python"
    }
  },
  "cells": [
    {
      "cell_type": "markdown",
      "metadata": {
        "id": "view-in-github",
        "colab_type": "text"
      },
      "source": [
        "<a href=\"https://colab.research.google.com/github/arkistar4uu/Python_Projects/blob/main/Ark_2_3_Shingles.ipynb\" target=\"_parent\"><img src=\"https://colab.research.google.com/assets/colab-badge.svg\" alt=\"Open In Colab\"/></a>"
      ]
    },
    {
      "cell_type": "code",
      "execution_count": 1,
      "metadata": {
        "colab": {
          "base_uri": "https://localhost:8080/"
        },
        "id": "10kqLu1Eff4_",
        "outputId": "c7dab0cd-a30f-44e2-e8c2-b67e9d1fb76b"
      },
      "outputs": [
        {
          "output_type": "stream",
          "name": "stdout",
          "text": [
            "Shingles for Document 1: [['data', 'is'], ['is', 'the'], ['the', 'new'], ['new', 'oil'], ['oil', 'of'], ['of', 'digital'], ['digital', 'economy']]\n",
            "Shingles for Document 2: [['data', 'is'], ['is', 'the'], ['the', 'new'], ['new', 'oil']]\n"
          ]
        }
      ],
      "source": [
        "def shingles(doc1, doc2, n):\n",
        "    # Split documents into words\n",
        "    words_doc1 = doc1.split()\n",
        "    words_doc2 = doc2.split()\n",
        "    \n",
        "    # Create shingles for each document\n",
        "    shingles_doc1 = [words_doc1[i:i+n] for i in range(len(words_doc1)-n+1)]\n",
        "    shingles_doc2 = [words_doc2[i:i+n] for i in range(len(words_doc2)-n+1)]\n",
        "    \n",
        "    return shingles_doc1, shingles_doc2\n",
        "\n",
        "doc1 = \"data is the new oil of digital economy\"\n",
        "doc2 = \"data is the new oil\"\n",
        "n = 2\n",
        "\n",
        "shingles_doc1, shingles_doc2 = shingles(doc1, doc2, n)\n",
        "\n",
        "print(\"Shingles for Document 1:\", shingles_doc1)\n",
        "print(\"Shingles for Document 2:\", shingles_doc2)\n"
      ]
    },
    {
      "cell_type": "code",
      "source": [
        "def calculate_jaccard_similarity(shingles1, shingles2):\n",
        "    set1 = set(tuple(shingle) for shingle in shingles1)\n",
        "    set2 = set(tuple(shingle) for shingle in shingles2)\n",
        "    intersection = set1.intersection(set2)\n",
        "    union = set1.union(set2)\n",
        "    similarity = len(intersection) / len(union)\n",
        "    return round(similarity, 2)\n",
        "\n",
        "# Shingles for Doc A.1 and Doc A.2\n",
        "shingles_docA1 = [['data', 'is'], ['is', 'the'], ['the', 'new'], ['new', 'oil'], ['oil', 'of'], ['of', 'digital'], ['digital', 'economy']]\n",
        "shingles_docA2 = [['data', 'is'], ['is', 'the'], ['the', 'new'], ['new', 'oil']]\n",
        "\n",
        "# Shingles for Doc B.1 and Doc B.2\n",
        "shingles_docB1 = [['there', 'is'], ['is', 'an'], ['an', 'art'], ['art', 'to'], ['to', 'getting'], ['getting', 'your'], ['your', 'way'], ['way', 'and'], ['and', 'throwing'], ['throwing', 'bananas'], ['bananas', 'on'], ['on', 'the'], ['the', 'street'], ['street', 'is'], ['is', 'not'], ['not', 'it']]\n",
        "shingles_docB2 = [['it', 'is'], ['is', 'not'], ['not', 'often'], ['often', 'you'], ['you', 'find'], ['find', 'soggy'], ['soggy', 'bananas'], ['bananas', 'on'], ['on', 'the'], ['the', 'street']]\n",
        "\n",
        "# Calculate similarity for Doc A.1 and Doc A.2\n",
        "similarity_docA = calculate_jaccard_similarity(shingles_docA1, shingles_docA2)\n",
        "print(\"Similarity between Doc A.1 and Doc A.2:\", similarity_docA)\n",
        "\n",
        "# Calculate similarity for Doc B.1 and Doc B.2\n",
        "similarity_docB = calculate_jaccard_similarity(shingles_docB1, shingles_docB2)\n",
        "print(\"Similarity between Doc B.1 and Doc B.2:\", similarity_docB)\n"
      ],
      "metadata": {
        "colab": {
          "base_uri": "https://localhost:8080/"
        },
        "id": "XoXY_PpjnErP",
        "outputId": "9c523543-6154-49e7-c28c-00670ad86645"
      },
      "execution_count": 3,
      "outputs": [
        {
          "output_type": "stream",
          "name": "stdout",
          "text": [
            "Similarity between Doc A.1 and Doc A.2: 0.57\n",
            "Similarity between Doc B.1 and Doc B.2: 0.18\n"
          ]
        }
      ]
    },
    {
      "cell_type": "code",
      "source": [
        "def calculate_jaccard_similarity(shingles1, shingles2):\n",
        "    set1 = set(tuple(shingle) for shingle in shingles1)\n",
        "    set2 = set(tuple(shingle) for shingle in shingles2)\n",
        "    intersection = set1.intersection(set2)\n",
        "    union = set1.union(set2)\n",
        "    similarity = len(intersection) / len(union)\n",
        "    return round(similarity, 2)\n",
        "\n",
        "# Shingles for Doc A.1 and Doc A.2\n",
        "shingles_docA1 = [['data', 'is', 'the'], ['is', 'the', 'new'], ['the', 'new', 'oil'], ['new', 'oil', 'of'], ['oil', 'of', 'digital'], ['of', 'digital', 'economy']]\n",
        "shingles_docA2 = [['data', 'is', 'the'], ['is', 'the', 'new'], ['the', 'new', 'oil']]\n",
        "\n",
        "# Shingles for Doc B.1 and Doc B.2\n",
        "shingles_docB1 = [['there', 'is', 'an'], ['is', 'an', 'art'], ['an', 'art', 'to'], ['art', 'to', 'getting'], ['to', 'getting', 'your'], ['getting', 'your', 'way'], ['your', 'way', 'and'], ['way', 'and', 'throwing'], ['and', 'throwing', 'bananas'], ['throwing', 'bananas', 'on'], ['bananas', 'on', 'the'], ['on', 'the', 'street'], ['the', 'street', 'is'], ['street', 'is', 'not'], ['is', 'not', 'it']]\n",
        "shingles_docB2 = [['it', 'is', 'not'], ['is', 'not', 'often'], ['not', 'often', 'you'], ['often', 'you', 'find'], ['you', 'find', 'soggy'], ['find', 'soggy', 'bananas'], ['soggy', 'bananas', 'on'], ['bananas', 'on', 'the'], ['on', 'the', 'street']]\n",
        "\n",
        "# Calculate similarity for Doc A.1 and Doc A.2\n",
        "similarity_docA = calculate_jaccard_similarity(shingles_docA1, shingles_docA2)\n",
        "print(\"Similarity between Doc A.1 and Doc A.2:\", similarity_docA)\n",
        "\n",
        "# Calculate similarity for Doc B.1 and Doc B.2\n",
        "similarity_docB = calculate_jaccard_similarity(shingles_docB1, shingles_docB2)\n",
        "print(\"Similarity between Doc B.1 and Doc B.2:\", similarity_docB)\n"
      ],
      "metadata": {
        "colab": {
          "base_uri": "https://localhost:8080/"
        },
        "id": "5Vh54OdUrq8T",
        "outputId": "a844e027-b566-4033-80a8-a6f00186a4dd"
      },
      "execution_count": 4,
      "outputs": [
        {
          "output_type": "stream",
          "name": "stdout",
          "text": [
            "Similarity between Doc A.1 and Doc A.2: 0.5\n",
            "Similarity between Doc B.1 and Doc B.2: 0.09\n"
          ]
        }
      ]
    }
  ]
}