{
  "nbformat": 4,
  "nbformat_minor": 0,
  "metadata": {
    "colab": {
      "provenance": [],
      "authorship_tag": "ABX9TyP/4g1aQUdy5UiPiCiTkRsA",
      "include_colab_link": true
    },
    "kernelspec": {
      "name": "python3",
      "display_name": "Python 3"
    },
    "language_info": {
      "name": "python"
    }
  },
  "cells": [
    {
      "cell_type": "markdown",
      "metadata": {
        "id": "view-in-github",
        "colab_type": "text"
      },
      "source": [
        "<a href=\"https://colab.research.google.com/github/arkistar4uu/Python_Projects/blob/main/Task2.ipynb\" target=\"_parent\"><img src=\"https://colab.research.google.com/assets/colab-badge.svg\" alt=\"Open In Colab\"/></a>"
      ]
    },
    {
      "cell_type": "code",
      "execution_count": 3,
      "metadata": {
        "colab": {
          "base_uri": "https://localhost:8080/"
        },
        "id": "l_lFTBhwCvxV",
        "outputId": "f7362038-c678-4cfd-9ec6-1a24f448d11b"
      },
      "outputs": [
        {
          "output_type": "stream",
          "name": "stdout",
          "text": [
            "True\n"
          ]
        }
      ],
      "source": [
        "def DFS(G, v):\n",
        "    visited = set()  # Create a set to keep track of visited nodes\n",
        "    stack = [v]  # Create a stack for DFS\n",
        "    while stack:\n",
        "        vertex = stack.pop()  # Get the next vertex from the stack\n",
        "        if vertex not in visited:\n",
        "            visited.add(vertex)  # Add the vertex to the visited set\n",
        "            stack.extend(G[vertex] - visited)  # Add the adjacent vertices to the stack\n",
        "    return visited\n",
        "\n",
        "def is_connected(G):\n",
        "    # Pick an arbitrary starting node\n",
        "    start_node = next(iter(G))\n",
        "    # Run DFS on the starting node\n",
        "    visited_nodes = DFS(G, start_node)\n",
        "    # If the number of visited nodes is equal to the number of nodes in the graph,\n",
        "    # then the graph is connected\n",
        "    return len(visited_nodes) == len(G)\n",
        "\n",
        "# Define the graph\n",
        "graph = {1: {2, 3}, 2: {1, 3}, 3: {1, 2, 4}, 4: {3}}\n",
        "\n",
        "# Check if the graph is connected\n",
        "connected = is_connected(graph)\n",
        "\n",
        "# Print the result\n",
        "print(connected)\n"
      ]
    }
  ]
}