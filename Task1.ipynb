{
  "nbformat": 4,
  "nbformat_minor": 0,
  "metadata": {
    "colab": {
      "provenance": [],
      "authorship_tag": "ABX9TyPvznWDjt9uhzOhPShfIm3s",
      "include_colab_link": true
    },
    "kernelspec": {
      "name": "python3",
      "display_name": "Python 3"
    },
    "language_info": {
      "name": "python"
    }
  },
  "cells": [
    {
      "cell_type": "markdown",
      "metadata": {
        "id": "view-in-github",
        "colab_type": "text"
      },
      "source": [
        "<a href=\"https://colab.research.google.com/github/arkistar4uu/Python_Projects/blob/main/Task1.ipynb\" target=\"_parent\"><img src=\"https://colab.research.google.com/assets/colab-badge.svg\" alt=\"Open In Colab\"/></a>"
      ]
    },
    {
      "cell_type": "code",
      "execution_count": 1,
      "metadata": {
        "colab": {
          "base_uri": "https://localhost:8080/"
        },
        "id": "R7STAnGl8T8W",
        "outputId": "3c088440-5008-4fc2-e0d2-7b3791ca9681"
      },
      "outputs": [
        {
          "output_type": "stream",
          "name": "stdout",
          "text": [
            "{1, 2, 3, 4}\n"
          ]
        }
      ],
      "source": [
        "# Step 1: Paste the DFS algorithm implementation\n",
        "def DFS(G, v):\n",
        "    visited = set()  # Create a set to keep track of visited nodes\n",
        "    stack = [v]  # Create a stack for DFS\n",
        "    while stack:\n",
        "        vertex = stack.pop()  # Get the next vertex from the stack\n",
        "        if vertex not in visited:\n",
        "            visited.add(vertex)  # Add the vertex to the visited set\n",
        "            stack.extend(G[vertex] - visited)  # Add the adjacent vertices to the stack\n",
        "    return visited\n",
        "\n",
        "# Step 2: Create a graph\n",
        "graph = {1: {2, 3}, 2: {1, 3}, 3: {1, 2, 4}, 4: {3}}\n",
        "\n",
        "# Step 4: Call the DFS function with the graph and the starting node\n",
        "visited_nodes = DFS(graph, 1)\n",
        "\n",
        "# Step 5: Print the visited nodes\n",
        "print(visited_nodes)\n"
      ]
    }
  ]
}