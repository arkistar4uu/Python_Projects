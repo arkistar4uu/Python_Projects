{
  "nbformat": 4,
  "nbformat_minor": 0,
  "metadata": {
    "colab": {
      "provenance": [],
      "authorship_tag": "ABX9TyMsah4sQzba5B+LuwpBAv1X",
      "include_colab_link": true
    },
    "kernelspec": {
      "name": "python3",
      "display_name": "Python 3"
    },
    "language_info": {
      "name": "python"
    }
  },
  "cells": [
    {
      "cell_type": "markdown",
      "metadata": {
        "id": "view-in-github",
        "colab_type": "text"
      },
      "source": [
        "<a href=\"https://colab.research.google.com/github/arkistar4uu/Python_Projects/blob/main/Djikstras_Shortest_Path_Algorithm_for_Han.ipynb\" target=\"_parent\"><img src=\"https://colab.research.google.com/assets/colab-badge.svg\" alt=\"Open In Colab\"/></a>"
      ]
    },
    {
      "cell_type": "code",
      "execution_count": 1,
      "metadata": {
        "colab": {
          "base_uri": "https://localhost:8080/"
        },
        "id": "amdcBIwIM6sR",
        "outputId": "892613c9-0424-4c0e-8ee2-8cc7ac9ac78e"
      },
      "outputs": [
        {
          "output_type": "stream",
          "name": "stdout",
          "text": [
            "The shortest path from node A to node G is ['A', 'D', 'E', 'H', 'G'] with a distance of 16.\n"
          ]
        }
      ],
      "source": [
        "from heapq import heappush, heappop\n",
        "\n",
        "# Define the graph as a dictionary of nodes and their neighbors with their weights\n",
        "graph = {\n",
        "    'A': [('B', 6), ('C', 4), ('D', 2)],\n",
        "    'B': [('E', 4), ('C', 5)],\n",
        "    'C': [('D', 8)],\n",
        "    'D': [('E', 4), ('I', 7)],\n",
        "    'E': [('F', 4), ('H', 5)],\n",
        "    'F': [('G', 12)],\n",
        "    'G': [],\n",
        "    'H': [('G', 5)],\n",
        "    'I': [('H', 5)]\n",
        "}\n",
        "\n",
        "# Dijkstra's algorithm to find the shortest path from start_node to end_node\n",
        "def dijkstra(graph, start_node, end_node):\n",
        "    # Initialize the distances to all nodes as infinity except for the start_node, which is set to 0\n",
        "    distances = {node: float('inf') for node in graph}\n",
        "    distances[start_node] = 0\n",
        "    \n",
        "    # Keep track of the previous node in the shortest path\n",
        "    previous = {node: None for node in graph}\n",
        "    \n",
        "    # Create a priority queue to keep track of the next nodes to visit\n",
        "    pq = [(0, start_node)]\n",
        "    \n",
        "    while pq:\n",
        "        # Dequeue the node with the lowest distance and mark it as visited\n",
        "        distance, node = heappop(pq)\n",
        "        if node == end_node:\n",
        "            break\n",
        "        if distance > distances[node]:\n",
        "            continue\n",
        "        \n",
        "        # Update the distances of the neighboring nodes\n",
        "        for neighbor, weight in graph[node]:\n",
        "            tentative_distance = distance + weight\n",
        "            if tentative_distance < distances[neighbor]:\n",
        "                distances[neighbor] = tentative_distance\n",
        "                previous[neighbor] = node\n",
        "                heappush(pq, (tentative_distance, neighbor))\n",
        "    \n",
        "    # Backtrack from the end_node to the start_node to find the shortest path\n",
        "    path = []\n",
        "    current_node = end_node\n",
        "    while current_node != start_node:\n",
        "        path.append(current_node)\n",
        "        current_node = previous[current_node]\n",
        "    path.append(start_node)\n",
        "    shortest_path = list(reversed(path))\n",
        "    \n",
        "    # Return the shortest path and its distance\n",
        "    return shortest_path, distances[end_node]\n",
        "\n",
        "# Test the function with the given graph and start and end nodes\n",
        "start_node = 'A'\n",
        "end_node = 'G'\n",
        "shortest_path, distance = dijkstra(graph, start_node, end_node)\n",
        "\n",
        "# Print the results\n",
        "print(f\"The shortest path from node {start_node} to node {end_node} is {shortest_path} with a distance of {distance}.\")\n"
      ]
    }
  ]
}