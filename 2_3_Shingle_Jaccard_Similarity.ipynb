{
  "nbformat": 4,
  "nbformat_minor": 0,
  "metadata": {
    "colab": {
      "provenance": [],
      "authorship_tag": "ABX9TyNZtWeGEOeO43Ee0rsjbmqo",
      "include_colab_link": true
    },
    "kernelspec": {
      "name": "python3",
      "display_name": "Python 3"
    },
    "language_info": {
      "name": "python"
    }
  },
  "cells": [
    {
      "cell_type": "markdown",
      "metadata": {
        "id": "view-in-github",
        "colab_type": "text"
      },
      "source": [
        "<a href=\"https://colab.research.google.com/github/arkistar4uu/Python_Projects/blob/main/2_3_Shingle_Jaccard_Similarity.ipynb\" target=\"_parent\"><img src=\"https://colab.research.google.com/assets/colab-badge.svg\" alt=\"Open In Colab\"/></a>"
      ]
    },
    {
      "cell_type": "code",
      "source": [
        "def shingles(doc1, doc2, n):\n",
        "    # Split the documents into words\n",
        "    words1 = doc1.split()\n",
        "    words2 = doc2.split()\n",
        "    \n",
        "    # Generate shingles for each document\n",
        "    shingles1 = set()\n",
        "    shingles2 = set()\n",
        "    \n",
        "    # Generate n-grams for doc1\n",
        "    for i in range(len(words1) - n + 1):\n",
        "        shingle = ' '.join(words1[i:i+n])\n",
        "        shingles1.add(shingle)\n",
        "    \n",
        "    # Generate n-grams for doc2\n",
        "    for i in range(len(words2) - n + 1):\n",
        "        shingle = ' '.join(words2[i:i+n])\n",
        "        shingles2.add(shingle)\n",
        "    \n",
        "    # Calculate Jaccard similarity coefficient\n",
        "    intersection = len(shingles1.intersection(shingles2))\n",
        "    union = len(shingles1) + len(shingles2) - intersection\n",
        "    jaccard_similarity = intersection / union\n",
        "    \n",
        "    return jaccard_similarity\n",
        "\n",
        "#For any two documents, just change the documen corpus and specify if it is 1, 2 or 3 Shingle by changing the value of n\n",
        "doc1 = \"data is the new oil of digital economy\"\n",
        "doc2 = \"data is the new oil\"\n",
        "n = 3\n",
        "\n",
        "similarity = shingles(doc1, doc2, n)\n",
        "print(f\"Jaccard similarity for {n}-Shingle: {similarity}\")\n"
      ],
      "metadata": {
        "colab": {
          "base_uri": "https://localhost:8080/"
        },
        "id": "w1Gib3qcxSi5",
        "outputId": "6d4d434b-b6cd-40ad-e965-c7f6e00f024b"
      },
      "execution_count": 3,
      "outputs": [
        {
          "output_type": "stream",
          "name": "stdout",
          "text": [
            "Jaccard similarity for 3-Shingle: 0.5\n"
          ]
        }
      ]
    }
  ]
}