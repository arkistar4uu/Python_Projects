{
  "nbformat": 4,
  "nbformat_minor": 0,
  "metadata": {
    "colab": {
      "provenance": [],
      "authorship_tag": "ABX9TyNniJBvXEbK0og3+mwkdD9b",
      "include_colab_link": true
    },
    "kernelspec": {
      "name": "python3",
      "display_name": "Python 3"
    },
    "language_info": {
      "name": "python"
    }
  },
  "cells": [
    {
      "cell_type": "markdown",
      "metadata": {
        "id": "view-in-github",
        "colab_type": "text"
      },
      "source": [
        "<a href=\"https://colab.research.google.com/github/arkistar4uu/Python_Projects/blob/main/Programming_Exercise2.ipynb\" target=\"_parent\"><img src=\"https://colab.research.google.com/assets/colab-badge.svg\" alt=\"Open In Colab\"/></a>"
      ]
    },
    {
      "cell_type": "code",
      "execution_count": 1,
      "metadata": {
        "id": "guO7wWRXdI6X"
      },
      "outputs": [],
      "source": [
        "import networkx as nx\n",
        "\n",
        "def dsatur(G):\n",
        "    # Sort the vertices by decreasing degree\n",
        "    vertices = sorted(G.nodes(), key=G.degree, reverse=True)\n",
        "    # Initialize an empty dictionary to store the colors of each vertex\n",
        "    colors = {}\n",
        "    # Color the vertex of maximum degree with color 1\n",
        "    max_degree_vertex = vertices[0]\n",
        "    colors[max_degree_vertex] = 1\n",
        "    # Iterate over the remaining vertices and assign colors\n",
        "    for v in vertices[1:]:\n",
        "        # Find the set of colors used by adjacent vertices\n",
        "        used_colors = {colors[n] for n in G.neighbors(v) if n in colors}\n",
        "        # If there are no used colors, assign color 1\n",
        "        if not used_colors:\n",
        "            colors[v] = 1\n",
        "        else:\n",
        "            # Find the lowest numbered color not used by adjacent vertices\n",
        "            for i in range(1, len(G)+1):\n",
        "                if i not in used_colors:\n",
        "                    colors[v] = i\n",
        "                    break\n",
        "        # Update the saturation degree of adjacent vertices\n",
        "        for n in G.neighbors(v):\n",
        "            if n in colors:\n",
        "                continue\n",
        "            sat_degree = len({colors[c] for c in G.neighbors(n) if c in colors})\n",
        "            G.nodes[n]['sat_degree'] = sat_degree\n",
        "        # Choose the vertex with maximum saturation degree\n",
        "        max_sat_degree = max(G.nodes[n]['sat_degree'] for n in G.nodes() if n not in colors)\n",
        "        max_sat_vertices = [n for n in G.nodes() if G.nodes[n]['sat_degree'] == max_sat_degree and n not in colors]\n",
        "        # If there is only one vertex with maximum saturation degree, choose it\n",
        "        if len(max_sat_vertices) == 1:\n",
        "            chosen_vertex = max_sat_vertices[0]\n",
        "        else:\n",
        "            # Choose the vertex of maximum degree among the tied vertices\n",
        "            chosen_vertex = max(max_sat_vertices, key=G.degree)\n",
        "        # Color the chosen vertex\n",
        "        colors[chosen_vertex] = colors.get(chosen_vertex, 1)\n",
        "    return colors\n"
      ]
    },
    {
      "cell_type": "code",
      "source": [
        "def dsatur(graph):\n",
        "    # Initialize all nodes as uncolored\n",
        "    colors = {}\n",
        "    for node in graph:\n",
        "        colors[node] = None\n",
        "        \n",
        "    # Sort nodes by decreasing order of degree\n",
        "    nodes = sorted(graph, key=lambda node: len(graph[node]), reverse=True)\n",
        "    \n",
        "    # Color node with maximum degree with color 1\n",
        "    max_degree_node = nodes[0]\n",
        "    colors[max_degree_node] = 1\n",
        "    \n",
        "    # Color remaining nodes\n",
        "    for i in range(1, len(nodes)):\n",
        "        node = nodes[i]\n",
        "        available_colors = set(range(1, len(nodes)+1))\n",
        "        \n",
        "        # Calculate the saturation degree of the node\n",
        "        saturation_degree = len(set(colors[neighbor] for neighbor in graph[node] if colors[neighbor] is not None))\n",
        "        \n",
        "        # If node has the maximum saturation degree, choose it, else choose node with maximum degree in the uncolored subgraph\n",
        "        if saturation_degree == len(available_colors):\n",
        "            chosen_node = node\n",
        "        else:\n",
        "            uncolored_neighbors = set(neighbor for neighbor in graph[node] if colors[neighbor] is None)\n",
        "            max_degree = 0\n",
        "            for neighbor in uncolored_neighbors:\n",
        "                if len(graph[neighbor]) > max_degree:\n",
        "                    max_degree = len(graph[neighbor])\n",
        "                    chosen_node = neighbor\n",
        "        \n",
        "        # Assign the least possible (lowest numbered) color to the chosen node\n",
        "        for color in range(1, len(nodes)+1):\n",
        "            if color not in set(colors[neighbor] for neighbor in graph[chosen_node] if colors[neighbor] is not None):\n",
        "                colors[chosen_node] = color\n",
        "                break\n",
        "                \n",
        "    return colors\n"
      ],
      "metadata": {
        "id": "9h1ftV8oeJCh"
      },
      "execution_count": 3,
      "outputs": []
    }
  ]
}