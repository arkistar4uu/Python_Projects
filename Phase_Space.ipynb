{
  "nbformat": 4,
  "nbformat_minor": 0,
  "metadata": {
    "colab": {
      "provenance": [],
      "authorship_tag": "ABX9TyPSAkapFhDUqsYpvIIOLv47",
      "include_colab_link": true
    },
    "kernelspec": {
      "name": "python3",
      "display_name": "Python 3"
    },
    "language_info": {
      "name": "python"
    }
  },
  "cells": [
    {
      "cell_type": "markdown",
      "metadata": {
        "id": "view-in-github",
        "colab_type": "text"
      },
      "source": [
        "<a href=\"https://colab.research.google.com/github/arkistar4uu/Python_Projects/blob/main/Phase_Space.ipynb\" target=\"_parent\"><img src=\"https://colab.research.google.com/assets/colab-badge.svg\" alt=\"Open In Colab\"/></a>"
      ]
    },
    {
      "cell_type": "code",
      "execution_count": 1,
      "metadata": {
        "colab": {
          "base_uri": "https://localhost:8080/"
        },
        "id": "fzQoc6wuuKqg",
        "outputId": "48f4f05d-4281-4a38-e67d-ec3cc6780bac"
      },
      "outputs": [
        {
          "output_type": "stream",
          "name": "stdout",
          "text": [
            "MajorityP3, (2, 1, 3)\n",
            "MajorityP3, (2, 3, 1)\n",
            "MajorityP3, (1, 2, 3)\n",
            "MajorityP3, (1, 3, 2)\n",
            "MajorityP3, (3, 2, 1)\n",
            "MajorityP3, (3, 1, 2)\n"
          ]
        }
      ],
      "source": [
        "from itertools import permutations\n",
        "\n",
        "def compute_phase_space(string, elements):\n",
        "    phase_space = []\n",
        "    for perm in permutations(elements):\n",
        "        phase_space.append(f\"{string}, {perm}\")\n",
        "    return phase_space\n",
        "\n",
        "string = \"MajorityP3\"\n",
        "elements = (2, 1, 3)\n",
        "\n",
        "phase_space = compute_phase_space(string, elements)\n",
        "\n",
        "# Print the phase space\n",
        "for item in phase_space:\n",
        "    print(item)\n"
      ]
    },
    {
      "cell_type": "code",
      "source": [
        "from itertools import permutations\n",
        "\n",
        "def compute_phase_space(string, elements):\n",
        "    phase_space = []\n",
        "    for perm in permutations(elements):\n",
        "        phase_space.append(f\"{string}, {perm}\")\n",
        "    return phase_space\n",
        "\n",
        "string = \"NorC4\"\n",
        "elements = (0, 2, 1, 3)\n",
        "\n",
        "phase_space = compute_phase_space(string, elements)\n",
        "\n",
        "# Print the phase space\n",
        "for item in phase_space:\n",
        "    print(item)\n"
      ],
      "metadata": {
        "colab": {
          "base_uri": "https://localhost:8080/"
        },
        "id": "3PpZKalRupR4",
        "outputId": "898edf4d-2ed6-42d8-932a-76bfced876a0"
      },
      "execution_count": 2,
      "outputs": [
        {
          "output_type": "stream",
          "name": "stdout",
          "text": [
            "NorC4, (0, 2, 1, 3)\n",
            "NorC4, (0, 2, 3, 1)\n",
            "NorC4, (0, 1, 2, 3)\n",
            "NorC4, (0, 1, 3, 2)\n",
            "NorC4, (0, 3, 2, 1)\n",
            "NorC4, (0, 3, 1, 2)\n",
            "NorC4, (2, 0, 1, 3)\n",
            "NorC4, (2, 0, 3, 1)\n",
            "NorC4, (2, 1, 0, 3)\n",
            "NorC4, (2, 1, 3, 0)\n",
            "NorC4, (2, 3, 0, 1)\n",
            "NorC4, (2, 3, 1, 0)\n",
            "NorC4, (1, 0, 2, 3)\n",
            "NorC4, (1, 0, 3, 2)\n",
            "NorC4, (1, 2, 0, 3)\n",
            "NorC4, (1, 2, 3, 0)\n",
            "NorC4, (1, 3, 0, 2)\n",
            "NorC4, (1, 3, 2, 0)\n",
            "NorC4, (3, 0, 2, 1)\n",
            "NorC4, (3, 0, 1, 2)\n",
            "NorC4, (3, 2, 0, 1)\n",
            "NorC4, (3, 2, 1, 0)\n",
            "NorC4, (3, 1, 0, 2)\n",
            "NorC4, (3, 1, 2, 0)\n"
          ]
        }
      ]
    }
  ]
}