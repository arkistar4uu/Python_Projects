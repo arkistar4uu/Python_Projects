{
  "nbformat": 4,
  "nbformat_minor": 0,
  "metadata": {
    "colab": {
      "provenance": [],
      "authorship_tag": "ABX9TyO4Vkzpv6F/LlILkvmVIaE+",
      "include_colab_link": true
    },
    "kernelspec": {
      "name": "python3",
      "display_name": "Python 3"
    },
    "language_info": {
      "name": "python"
    }
  },
  "cells": [
    {
      "cell_type": "markdown",
      "metadata": {
        "id": "view-in-github",
        "colab_type": "text"
      },
      "source": [
        "<a href=\"https://colab.research.google.com/github/arkistar4uu/Python_Projects/blob/main/2x2_Puzzle.ipynb\" target=\"_parent\"><img src=\"https://colab.research.google.com/assets/colab-badge.svg\" alt=\"Open In Colab\"/></a>"
      ]
    },
    {
      "cell_type": "code",
      "source": [
        "# Define the initial state\n",
        "initial_state = [[2, 3], [1, 0]]\n",
        "\n",
        "# Define the goal state\n",
        "goal_state = [[1, 2], [3, 0]]\n",
        "\n",
        "# Define the legal moves\n",
        "moves = [\n",
        "    [[0, 1], [1, 1], [0, 0]],\n",
        "    [[1, 0], [1, 1], [0, 0]],\n",
        "    [[0, 0], [1, 1], [0, 1]],\n",
        "    [[0, 0], [0, 1], [1, 1]]\n",
        "]\n",
        "\n",
        "# Define the transition function\n",
        "def transition(state, move):\n",
        "    new_state = [row.copy() for row in state]\n",
        "    a, b, c = state[0][0], state[0][1], state[1][0]\n",
        "    new_state[move[0][0]][move[0][1]] = a\n",
        "    new_state[move[1][0]][move[1][1]] = b\n",
        "    new_state[move[2][0]][move[2][1]] = c\n",
        "    return new_state\n",
        "\n",
        "# Define the search function\n",
        "def search(state, visited, path):\n",
        "    if state == goal_state:\n",
        "        return path\n",
        "    for move in moves:\n",
        "        next_state = transition(state, move)\n",
        "        if tuple(map(tuple, next_state)) not in visited:\n",
        "            visited.add(tuple(map(tuple, next_state)))\n",
        "            result = search(next_state, visited, path + [move])\n",
        "            if result is not None:\n",
        "                return result\n",
        "    return None\n",
        "\n",
        "# Define a helper function to print the solution\n",
        "def print_moves(moves):\n",
        "    for move in moves:\n",
        "        print(move)\n",
        "\n",
        "# Define the main function\n",
        "def main():\n",
        "    visited = set()\n",
        "    visited.add(tuple(map(tuple, initial_state)))\n",
        "    solution = search(initial_state, visited, [])\n",
        "    if solution is not None:\n",
        "        print(\"Solution:\")\n",
        "        print_moves(solution)\n",
        "    else:\n",
        "        print(\"No solution found.\")\n",
        "\n",
        "# Run the main function\n",
        "main()\n"
      ],
      "metadata": {
        "colab": {
          "base_uri": "https://localhost:8080/"
        },
        "id": "GG1I4GrCi--Q",
        "outputId": "d038b73b-dc4d-492f-f781-2bcf2a4f4f75"
      },
      "execution_count": 3,
      "outputs": [
        {
          "output_type": "stream",
          "name": "stdout",
          "text": [
            "No solution found.\n"
          ]
        }
      ]
    }
  ]
}