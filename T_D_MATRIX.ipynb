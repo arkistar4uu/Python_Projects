{
  "nbformat": 4,
  "nbformat_minor": 0,
  "metadata": {
    "colab": {
      "provenance": [],
      "authorship_tag": "ABX9TyPs7rB4rMDv+DgEEgiLUjRp",
      "include_colab_link": true
    },
    "kernelspec": {
      "name": "python3",
      "display_name": "Python 3"
    },
    "language_info": {
      "name": "python"
    }
  },
  "cells": [
    {
      "cell_type": "markdown",
      "metadata": {
        "id": "view-in-github",
        "colab_type": "text"
      },
      "source": [
        "<a href=\"https://colab.research.google.com/github/arkistar4uu/Python_Projects/blob/main/T_D_MATRIX.ipynb\" target=\"_parent\"><img src=\"https://colab.research.google.com/assets/colab-badge.svg\" alt=\"Open In Colab\"/></a>"
      ]
    },
    {
      "cell_type": "code",
      "execution_count": 2,
      "metadata": {
        "colab": {
          "base_uri": "https://localhost:8080/"
        },
        "id": "kBsbfzgQWAyb",
        "outputId": "4b258e2d-2e57-428a-bbbf-dd2f509fbfdd"
      },
      "outputs": [
        {
          "output_type": "stream",
          "name": "stdout",
          "text": [
            "[[2.09861228866811, 0, 0], [0, 2.3796592851687173, 1.4054651081081644], [2.09861228866811, 0, 0], [0, 2.09861228866811, 0], [2.09861228866811, 0, 0], [1.0, 1.6931471805599454, 1.0], [1.0, 1.0, 1.0], [2.09861228866811, 0, 0], [0, 1.4054651081081644, 1.4054651081081644]]\n"
          ]
        }
      ],
      "source": [
        "from collections import defaultdict\n",
        "from math import log\n",
        "\n",
        "def my_TD_matrix(d1, d2, d3):\n",
        "    # Combine all the documents into a single list\n",
        "    documents = [d1, d2, d3]\n",
        "\n",
        "    # Create a dictionary to store the document frequency of each term\n",
        "    df = defaultdict(int)\n",
        "\n",
        "    # Iterate over all the documents and count the document frequency of each term\n",
        "    for doc in documents:\n",
        "        for term in set(doc):\n",
        "            df[term] += 1\n",
        "\n",
        "    # Create a list of all the unique terms in the document collection\n",
        "    terms = sorted(list(df.keys()))\n",
        "\n",
        "    # Create a dictionary to store the T-D matrix\n",
        "    td_matrix = defaultdict(dict)\n",
        "\n",
        "    # Iterate over all the documents and terms and compute the T-D matrix\n",
        "    for i, doc in enumerate(documents):\n",
        "        for term in set(doc):\n",
        "            # Compute the term frequency of the term in the document\n",
        "            tf = doc.count(term)\n",
        "\n",
        "            # Compute the inverse document frequency of the term\n",
        "            idf = 1 + log(len(documents) / df[term])\n",
        "\n",
        "            # Compute the weighted term frequency of the term in the document\n",
        "            wtf = (1 + log(tf)) * idf\n",
        "\n",
        "            # Add the weighted term frequency of the term in the document to the T-D matrix\n",
        "            td_matrix[term][f'd{i+1}'] = wtf\n",
        "\n",
        "    # Convert the dictionary to a matrix and return it\n",
        "    return [[td_matrix[term][f'd{i+1}'] if f'd{i+1}' in td_matrix[term] else 0 for i in range(len(documents))] for term in terms]\n",
        "\n",
        "# Example usage\n",
        "d1 = [\"python\", \"anaconda\", \"jupyter\", \"programming\", \"learn\", \"computer\"]\n",
        "d2 = [\"game\", \"are\", \"world\", \"programming\", \"learn\", \"learn\", \"are\"]\n",
        "d3 = [\"learn\", \"are\", \"world\", \"programming\"]\n",
        "\n",
        "td_matrix = my_TD_matrix(d1, d2, d3)\n",
        "print(td_matrix)\n"
      ]
    },
    {
      "cell_type": "code",
      "source": [
        "from math import log\n",
        "\n",
        "def my_TD_matrix(d1, d2, d3):\n",
        "    documents = [d1, d2, d3]\n",
        "    terms = set(d1 + d2 + d3)\n",
        "    td_matrix = {}\n",
        "    \n",
        "    for term in terms:\n",
        "        td_matrix[term] = [0] * 3\n",
        "        for i in range(3):\n",
        "            doc = documents[i]\n",
        "            # Count the number of times the term appears in the document\n",
        "            tf = doc.count(term)\n",
        "            td_matrix[term][i] = tf\n",
        "            if tf > 0:\n",
        "                # Compute the inverse document frequency of the term\n",
        "                idf = 1 + log(len(documents) / sum(1 for doc in documents if term in doc))\n",
        "                # Compute the weighted term frequency of the term in the document\n",
        "                td_matrix[term][i] *= idf\n",
        "    \n",
        "    return td_matrix\n",
        "\n",
        "d1 = [\"python\", \"anaconda\", \"jupyter\", \"programming\", \"learn\", \"computer\"]\n",
        "d2 = [\"game\", \"are\", \"world\", \"programming\", \"learn\", \"learn\", \"are\"]\n",
        "d3 = [\"learn\", \"are\", \"world\", \"programming\"]\n",
        "\n",
        "td_matrix = my_TD_matrix(d1, d2, d3)\n",
        "print(td_matrix)\n"
      ],
      "metadata": {
        "colab": {
          "base_uri": "https://localhost:8080/"
        },
        "id": "Cddom0biXWoW",
        "outputId": "bb500ad2-47e1-4132-c47b-fad35b1d3807"
      },
      "execution_count": 3,
      "outputs": [
        {
          "output_type": "stream",
          "name": "stdout",
          "text": [
            "{'programming': [1.0, 1.0, 1.0], 'computer': [2.09861228866811, 0, 0], 'game': [0, 2.09861228866811, 0], 'python': [2.09861228866811, 0, 0], 'world': [0, 1.4054651081081644, 1.4054651081081644], 'learn': [1.0, 2.0, 1.0], 'jupyter': [2.09861228866811, 0, 0], 'are': [0, 2.8109302162163288, 1.4054651081081644], 'anaconda': [2.09861228866811, 0, 0]}\n"
          ]
        }
      ]
    }
  ]
}