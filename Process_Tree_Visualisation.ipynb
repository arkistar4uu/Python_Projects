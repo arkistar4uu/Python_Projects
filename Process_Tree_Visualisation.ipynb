{
  "nbformat": 4,
  "nbformat_minor": 0,
  "metadata": {
    "colab": {
      "provenance": [],
      "authorship_tag": "ABX9TyOz98WsUby46PGqBGta9j2o",
      "include_colab_link": true
    },
    "kernelspec": {
      "name": "python3",
      "display_name": "Python 3"
    },
    "language_info": {
      "name": "python"
    }
  },
  "cells": [
    {
      "cell_type": "markdown",
      "metadata": {
        "id": "view-in-github",
        "colab_type": "text"
      },
      "source": [
        "<a href=\"https://colab.research.google.com/github/arkistar4uu/Python_Projects/blob/main/Process_Tree_Visualisation.ipynb\" target=\"_parent\"><img src=\"https://colab.research.google.com/assets/colab-badge.svg\" alt=\"Open In Colab\"/></a>"
      ]
    },
    {
      "cell_type": "code",
      "source": [
        "import networkx as nx\n",
        "import matplotlib.pyplot as plt\n",
        "\n",
        "# Define the default theory T\n",
        "T = {\n",
        "    'a': [],\n",
        "    'not a': ['not c'],\n",
        "    'a implies b': ['b'],\n",
        "    'a implies not b': ['not b'],\n",
        "    'not a implies c': ['c']\n",
        "}\n",
        "\n",
        "# Create a directed graph for the process tree\n",
        "G = nx.DiGraph()\n",
        "\n",
        "# Recursive function to build the process tree\n",
        "def build_process_tree(node, extensions):\n",
        "    G.add_node(node)\n",
        "    \n",
        "    for default in T[node]:\n",
        "        if default in extensions:\n",
        "            consequent = T[node][default]\n",
        "            extensions.add(consequent)\n",
        "            G.add_edge(node, consequent)\n",
        "            build_process_tree(consequent, extensions)\n",
        "            extensions.remove(consequent)\n",
        "        else:\n",
        "            G.add_edge(node, default)\n",
        "\n",
        "# Start with an empty set of extensions\n",
        "extensions = set()\n",
        "\n",
        "# Build the process tree starting from the root node 'a'\n",
        "build_process_tree('a', extensions)\n",
        "\n",
        "# Visualize the process tree\n",
        "pos = nx.spring_layout(G)\n",
        "nx.draw_networkx(G, pos, with_labels=True, node_color='lightblue', node_size=500, font_size=12, font_weight='bold')\n",
        "plt.title(\"Process Tree\")\n",
        "plt.axis('off')\n",
        "plt.show()\n"
      ],
      "metadata": {
        "colab": {
          "base_uri": "https://localhost:8080/",
          "height": 428
        },
        "id": "jcSEPH8G81wd",
        "outputId": "b1dda818-932f-46a5-bfe0-c3a3c4cb5870"
      },
      "execution_count": null,
      "outputs": [
        {
          "output_type": "display_data",
          "data": {
            "text/plain": [
              "<Figure size 640x480 with 1 Axes>"
            ],
            "image/png": "[encoded data removed]"
          },
          "metadata": {}
        }
      ]
    },
    {
      "cell_type": "code",
      "source": [
        "import networkx as nx\n",
        "import matplotlib.pyplot as plt\n",
        "\n",
        "# Define the default theory T\n",
        "T = {\n",
        "    'a': [],\n",
        "    'not a': ['not c'],\n",
        "    'a implies b': ['b'],\n",
        "    'a implies not b': ['not b'],\n",
        "    'not a implies c': ['c']\n",
        "}\n",
        "\n",
        "# Create a directed graph for the process tree\n",
        "G = nx.DiGraph()\n",
        "\n",
        "# Recursive function to build the process tree and calculate extensions\n",
        "def build_process_tree(node, extensions):\n",
        "    G.add_node(node)\n",
        "    \n",
        "    for default in T[node]:\n",
        "        if default in extensions:\n",
        "            consequent = T[node][default]\n",
        "            extensions.add(consequent)\n",
        "            G.add_edge(node, consequent)\n",
        "            build_process_tree(consequent, extensions)\n",
        "            extensions.remove(consequent)\n",
        "        else:\n",
        "            G.add_edge(node, default)\n",
        "    \n",
        "    # Print the extensions at the current node\n",
        "    print(f\"Extensions at {node}: {extensions}\")\n",
        "\n",
        "# Start with an empty set of extensions\n",
        "extensions = set()\n",
        "\n",
        "# Build the process tree and calculate extensions starting from the root node 'a'\n",
        "build_process_tree('a', extensions)\n",
        "\n",
        "# Visualize the process tree\n",
        "pos = nx.spring_layout(G)\n",
        "nx.draw_networkx(G, pos, with_labels=True, node_color='lightblue', node_size=500, font_size=12, font_weight='bold')\n",
        "plt.title(\"Process Tree\")\n",
        "plt.axis('off')\n",
        "plt.show()\n"
      ],
      "metadata": {
        "colab": {
          "base_uri": "https://localhost:8080/",
          "height": 445
        },
        "id": "E-z1M_Q19N36",
        "outputId": "dc1f9448-29bf-459e-d60a-038d9b7f720c"
      },
      "execution_count": null,
      "outputs": [
        {
          "output_type": "stream",
          "name": "stdout",
          "text": [
            "Extensions at a: set()\n"
          ]
        },
        {
          "output_type": "display_data",
          "data": {
            "text/plain": [
              "<Figure size 640x480 with 1 Axes>"
            ],
            "image/png": "[encoded data removed]"
          },
          "metadata": {}
        }
      ]
    }
  ]
}