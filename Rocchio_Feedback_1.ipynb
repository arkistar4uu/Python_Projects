{
  "nbformat": 4,
  "nbformat_minor": 0,
  "metadata": {
    "colab": {
      "provenance": [],
      "authorship_tag": "ABX9TyNIGVbGguG1627fC4nOyzXG",
      "include_colab_link": true
    },
    "kernelspec": {
      "name": "python3",
      "display_name": "Python 3"
    },
    "language_info": {
      "name": "python"
    }
  },
  "cells": [
    {
      "cell_type": "markdown",
      "metadata": {
        "id": "view-in-github",
        "colab_type": "text"
      },
      "source": [
        "<a href=\"https://colab.research.google.com/github/arkistar4uu/Python_Projects/blob/main/Rocchio_Feedback_1.ipynb\" target=\"_parent\"><img src=\"https://colab.research.google.com/assets/colab-badge.svg\" alt=\"Open In Colab\"/></a>"
      ]
    },
    {
      "cell_type": "code",
      "execution_count": 1,
      "metadata": {
        "colab": {
          "base_uri": "https://localhost:8080/"
        },
        "id": "3j_iMhXrcDlD",
        "outputId": "ac454b47-5fec-44bc-9a5d-07920aff1745"
      },
      "outputs": [
        {
          "output_type": "stream",
          "name": "stdout",
          "text": [
            "Updated Query Vector:\n",
            "fire : 0.8\n",
            "timon : 0.0\n",
            "discovery : 1.8\n",
            "sleeps : 1.7\n",
            "lion : 0\n",
            "king : 0.0\n",
            "jungle : 0.8\n",
            "simba : 0.0\n",
            "mufasa : 0.8\n",
            "palace : 0\n"
          ]
        }
      ],
      "source": [
        "def Rocchio(alpha, beta, gamma):\n",
        "    # Given documents and query\n",
        "    d0 = \"king palace jungle sleeps\"\n",
        "    d1 = \"jungle lion fire king discovery\"\n",
        "    d2 = \"king timon musafa\"\n",
        "    d3 = \"timon lion simba\"\n",
        "    q = \"lion king\"\n",
        "\n",
        "    # Create the word bag (unique words from all documents and query)\n",
        "    word_bag = set(d0.split() + d1.split() + d2.split() + d3.split() + q.split())\n",
        "\n",
        "    # Convert documents and query into vectors using binary term presence\n",
        "    def create_vector(document):\n",
        "        vector = []\n",
        "        for word in word_bag:\n",
        "            if word in document.split():\n",
        "                vector.append(1)\n",
        "            else:\n",
        "                vector.append(0)\n",
        "        return vector\n",
        "\n",
        "    d0_vector = create_vector(d0)\n",
        "    d1_vector = create_vector(d1)\n",
        "    d2_vector = create_vector(d2)\n",
        "    d3_vector = create_vector(d3)\n",
        "    q_vector = create_vector(q)\n",
        "\n",
        "    # Update the query vector using Rocchio feedback\n",
        "    new_q_vector = []\n",
        "    for i in range(len(q_vector)):\n",
        "        new_q_value = alpha * q_vector[i] + beta * d1_vector[i] - gamma * d3_vector[i]\n",
        "        new_q_value = max(new_q_value, 0)  # Ensure non-negative values\n",
        "        new_q_vector.append(new_q_value)\n",
        "\n",
        "    # Return the updated query vector\n",
        "    return new_q_vector\n",
        "\n",
        "# Set Rocchio feedback parameters\n",
        "alpha = 1\n",
        "beta = 0.8\n",
        "gamma = 0.1\n",
        "\n",
        "# Calculate Rocchio feedback\n",
        "updated_q_vector = Rocchio(alpha, beta, gamma)\n",
        "\n",
        "# Round the results to two decimal places\n",
        "updated_q_vector = [round(value, 2) for value in updated_q_vector]\n",
        "\n",
        "# Map the rounded values to corresponding words\n",
        "word_list = [\"fire\", \"timon\", \"discovery\", \"sleeps\", \"lion\", \"king\", \"jungle\", \"simba\", \"mufasa\", \"palace\"]\n",
        "result = dict(zip(word_list, updated_q_vector))\n",
        "\n",
        "print(\"Updated Query Vector:\")\n",
        "for word, value in result.items():\n",
        "    print(word, \":\", value)\n"
      ]
    },
    {
      "cell_type": "code",
      "source": [
        "def Rocchio(alpha, beta, gamma):\n",
        "    # Given documents and query\n",
        "    d0 = \"king palace jungle sleeps\"\n",
        "    d1 = \"jungle lion fire king discovery\"\n",
        "    d2 = \"king timon musafa\"\n",
        "    d3 = \"timon lion simba\"\n",
        "    q = \"lion king\"\n",
        "\n",
        "    # Create the word bag (unique words from all documents and query)\n",
        "    word_bag = set(d0.split() + d1.split() + d2.split() + d3.split() + q.split())\n",
        "\n",
        "    # Convert documents and query into vectors using binary term presence\n",
        "    def create_vector(document):\n",
        "        vector = []\n",
        "        for word in word_bag:\n",
        "            if word in document.split():\n",
        "                vector.append(1)\n",
        "            else:\n",
        "                vector.append(0)\n",
        "        return vector\n",
        "\n",
        "    d0_vector = create_vector(d0)\n",
        "    d1_vector = create_vector(d1)\n",
        "    d2_vector = create_vector(d2)\n",
        "    d3_vector = create_vector(d3)\n",
        "    q_vector = create_vector(q)\n",
        "\n",
        "    # Update the query vector using Rocchio feedback\n",
        "    new_q_vector = []\n",
        "    for i in range(len(q_vector)):\n",
        "        new_q_value = alpha * q_vector[i] + beta * d1_vector[i] - gamma * d3_vector[i]\n",
        "        new_q_value = max(new_q_value, 0)  # Ensure non-negative values\n",
        "        new_q_vector.append(new_q_value)\n",
        "\n",
        "    # Return the updated query vector\n",
        "    return new_q_vector\n",
        "\n",
        "# Set Rocchio feedback parameters\n",
        "alpha = 1\n",
        "beta = 0.1\n",
        "gamma = 0.9\n",
        "\n",
        "# Calculate Rocchio feedback\n",
        "updated_q_vector = Rocchio(alpha, beta, gamma)\n",
        "\n",
        "# Round the results to two decimal places\n",
        "updated_q_vector = [round(value, 2) for value in updated_q_vector]\n",
        "\n",
        "# Map the rounded values to corresponding words\n",
        "word_list = [\"fire\", \"timon\", \"discovery\", \"sleeps\", \"lion\", \"king\", \"jungle\", \"simba\", \"mufasa\", \"palace\"]\n",
        "result = dict(zip(word_list, updated_q_vector))\n",
        "\n",
        "print(\"Updated Query Vector:\")\n",
        "for word, value in result.items():\n",
        "    print(word, \":\", value)\n"
      ],
      "metadata": {
        "colab": {
          "base_uri": "https://localhost:8080/"
        },
        "id": "CA48d0P8dBHC",
        "outputId": "8c4dc0e1-03a6-4e4b-d482-0d579b6ef374"
      },
      "execution_count": 2,
      "outputs": [
        {
          "output_type": "stream",
          "name": "stdout",
          "text": [
            "Updated Query Vector:\n",
            "fire : 0.1\n",
            "timon : 0.0\n",
            "discovery : 1.1\n",
            "sleeps : 0.2\n",
            "lion : 0\n",
            "king : 0.0\n",
            "jungle : 0.1\n",
            "simba : 0.0\n",
            "mufasa : 0.1\n",
            "palace : 0\n"
          ]
        }
      ]
    },
    {
      "cell_type": "code",
      "source": [
        "def Rocchio(alpha, beta, gamma):\n",
        "    # Given documents and query\n",
        "    d0 = \"king palace jungle sleeps\"\n",
        "    d1 = \"jungle lion fire king discovery\"\n",
        "    d2 = \"king timon musafa\"\n",
        "    d3 = \"timon lion simba\"\n",
        "    q = \"lion king\"\n",
        "\n",
        "    # Create the word bag (unique words from all documents and query)\n",
        "    word_bag = set(d0.split() + d1.split() + d2.split() + d3.split() + q.split())\n",
        "\n",
        "    # Convert documents and query into vectors using binary term presence\n",
        "    def create_vector(document):\n",
        "        vector = []\n",
        "        for word in word_bag:\n",
        "            if word in document.split():\n",
        "                vector.append(1)\n",
        "            else:\n",
        "                vector.append(0)\n",
        "        return vector\n",
        "\n",
        "    d0_vector = create_vector(d0)\n",
        "    d1_vector = create_vector(d1)\n",
        "    d2_vector = create_vector(d2)\n",
        "    d3_vector = create_vector(d3)\n",
        "    q_vector = create_vector(q)\n",
        "\n",
        "    # Update the query vector using Rocchio feedback\n",
        "    new_q_vector = []\n",
        "    for i in range(len(q_vector)):\n",
        "        new_q_value = alpha * q_vector[i] + beta * d1_vector[i] - gamma * d3_vector[i]\n",
        "        new_q_value = max(new_q_value, 0)  # Ensure non-negative values\n",
        "        new_q_vector.append(new_q_value)\n",
        "\n",
        "    # Return the updated query vector\n",
        "    return new_q_vector\n",
        "\n",
        "# Set Rocchio feedback parameters\n",
        "alpha = 1\n",
        "beta = 1\n",
        "gamma = 1\n",
        "\n",
        "# Calculate Rocchio feedback\n",
        "updated_q_vector = Rocchio(alpha, beta, gamma)\n",
        "\n",
        "# Round the results to two decimal places\n",
        "updated_q_vector = [round(value, 2) for value in updated_q_vector]\n",
        "\n",
        "# Map the rounded values to corresponding words\n",
        "word_list = [\"fire\", \"timon\", \"discovery\", \"sleeps\", \"lion\", \"king\", \"jungle\", \"simba\", \"mufasa\", \"palace\"]\n",
        "result = dict(zip(word_list, updated_q_vector))\n",
        "\n",
        "print(\"Updated Query Vector:\")\n",
        "for word, value in result.items():\n",
        "    print(word, \":\", value)\n"
      ],
      "metadata": {
        "colab": {
          "base_uri": "https://localhost:8080/"
        },
        "id": "_jUwjkn0dxl7",
        "outputId": "b62e44fe-d508-4d3d-acf0-d251f0b0f181"
      },
      "execution_count": 3,
      "outputs": [
        {
          "output_type": "stream",
          "name": "stdout",
          "text": [
            "Updated Query Vector:\n",
            "fire : 1\n",
            "timon : 0\n",
            "discovery : 2\n",
            "sleeps : 1\n",
            "lion : 0\n",
            "king : 0\n",
            "jungle : 1\n",
            "simba : 0\n",
            "mufasa : 1\n",
            "palace : 0\n"
          ]
        }
      ]
    }
  ]
}